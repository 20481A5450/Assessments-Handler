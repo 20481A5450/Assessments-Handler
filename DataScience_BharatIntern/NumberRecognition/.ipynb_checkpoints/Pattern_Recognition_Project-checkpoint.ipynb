{
 "cells": [
  {
   "cell_type": "markdown",
   "metadata": {
    "id": "SE4JAxFqr1Hs"
   },
   "source": [
    "# Classifying Heartbeats Using ECG Signals with CNN, AlexNet and LSTM Architectures"
   ]
  },
  {
   "cell_type": "markdown",
   "metadata": {
    "id": "sb7VedjHZxVc"
   },
   "source": [
    "### 1) Importing MIT-BIH Arrhythmia Dataset and necessary libraries"
   ]
  },
  {
   "cell_type": "code",
   "execution_count": 1,
   "metadata": {
    "colab": {
     "base_uri": "https://localhost:8080/"
    },
    "id": "W61FJ8OVix4O",
    "outputId": "96aa7e30-9a82-41c6-c067-13435630feb5"
   },
   "outputs": [
    {
     "ename": "ModuleNotFoundError",
     "evalue": "No module named 'google.colab'",
     "output_type": "error",
     "traceback": [
      "\u001b[1;31m---------------------------------------------------------------------------\u001b[0m",
      "\u001b[1;31mModuleNotFoundError\u001b[0m                       Traceback (most recent call last)",
      "Cell \u001b[1;32mIn[1], line 1\u001b[0m\n\u001b[1;32m----> 1\u001b[0m \u001b[38;5;28;01mfrom\u001b[39;00m \u001b[38;5;21;01mgoogle\u001b[39;00m\u001b[38;5;21;01m.\u001b[39;00m\u001b[38;5;21;01mcolab\u001b[39;00m \u001b[38;5;28;01mimport\u001b[39;00m drive\n\u001b[0;32m      2\u001b[0m drive\u001b[38;5;241m.\u001b[39mmount(\u001b[38;5;124m'\u001b[39m\u001b[38;5;124m/content/drive\u001b[39m\u001b[38;5;124m'\u001b[39m)\n",
      "\u001b[1;31mModuleNotFoundError\u001b[0m: No module named 'google.colab'"
     ]
    }
   ],
   "source": []
  },
  {
   "cell_type": "code",
   "execution_count": null,
   "metadata": {
    "colab": {
     "base_uri": "https://localhost:8080/"
    },
    "id": "QzSVFNA-LD6j",
    "outputId": "9283175e-d374-4c6c-f35a-f3eded2698f4"
   },
   "outputs": [],
   "source": [
    "!pip install tensorflow-addons"
   ]
  },
  {
   "cell_type": "code",
   "execution_count": null,
   "metadata": {
    "id": "fAOCKTriqupW"
   },
   "outputs": [],
   "source": [
    "import numpy as np\n",
    "import pandas as pd\n",
    "import matplotlib.pyplot as plt\n",
    "import seaborn as sns\n",
    "\n",
    "import tensorflow as tf\n",
    "import tensorflow_addons as tfa\n",
    "from tensorflow import keras\n",
    "from keras import layers\n",
    "from keras.layers import concatenate\n",
    "from keras.layers import Input, Dense, Dropout, Activation, ZeroPadding2D, BatchNormalization, Flatten, Conv2D, Embedding, Add\n",
    "from keras.layers import Conv1D, GlobalAveragePooling1D, AveragePooling2D, MaxPooling2D, MaxPooling1D, ZeroPadding1D, GlobalMaxPooling2D, GlobalAveragePooling2D, LSTM, SpatialDropout1D\n",
    "from keras.optimizers import Adam\n",
    "from keras.models import Sequential, Model\n",
    "from keras.preprocessing import image\n",
    "from keras.utils import plot_model\n",
    "from sklearn.model_selection import train_test_split\n",
    "from sklearn.metrics import confusion_matrix\n"
   ]
  },
  {
   "cell_type": "markdown",
   "metadata": {
    "id": "a6wft-jwaC5d"
   },
   "source": [
    "### 2) Reading and exploring the data"
   ]
  },
  {
   "cell_type": "code",
   "execution_count": null,
   "metadata": {
    "id": "Xm1_Li-Gr9Ud"
   },
   "outputs": [],
   "source": [
    "train_data = pd.read_csv(\"/content/drive/My Drive/mitbih_train.csv\", header = None)\n",
    "test_data = pd.read_csv(\"/content/drive/My Drive/mitbih_test.csv\", header = None)"
   ]
  },
  {
   "cell_type": "code",
   "execution_count": null,
   "metadata": {
    "colab": {
     "base_uri": "https://localhost:8080/",
     "height": 424
    },
    "id": "vRrfakA2scy-",
    "outputId": "17fe1349-8e3f-49fa-8cee-27b7f60db2b7"
   },
   "outputs": [],
   "source": [
    "train_data"
   ]
  },
  {
   "cell_type": "code",
   "execution_count": null,
   "metadata": {
    "colab": {
     "base_uri": "https://localhost:8080/"
    },
    "id": "B4WX_zlQsg5V",
    "outputId": "88af8cda-659b-435e-c986-7cb563b7f3a2"
   },
   "outputs": [],
   "source": [
    "train_data.info()"
   ]
  },
  {
   "cell_type": "markdown",
   "metadata": {
    "id": "ZCYC-4MkataC"
   },
   "source": [
    "### 3) Checking any null values in train data and catecorizing according to the unique classes"
   ]
  },
  {
   "cell_type": "code",
   "execution_count": null,
   "metadata": {
    "colab": {
     "base_uri": "https://localhost:8080/"
    },
    "id": "wNbSxDLPsorz",
    "outputId": "26204736-972f-4354-f66b-f4b9d03b13d1"
   },
   "outputs": [],
   "source": [
    "train_data.isnull().values.any()"
   ]
  },
  {
   "cell_type": "code",
   "execution_count": null,
   "metadata": {
    "colab": {
     "base_uri": "https://localhost:8080/"
    },
    "id": "qmn4Yzr0s4E-",
    "outputId": "c60d2b45-f143-4350-e23e-32e64f09ddcd"
   },
   "outputs": [],
   "source": [
    "train_data.iloc[:, 187].unique()"
   ]
  },
  {
   "cell_type": "markdown",
   "metadata": {
    "id": "t5RqIS_NbRSS"
   },
   "source": [
    "### 4) Converting data to integer data type"
   ]
  },
  {
   "cell_type": "code",
   "execution_count": null,
   "metadata": {
    "id": "P0WvvbSMtkYw"
   },
   "outputs": [],
   "source": [
    "train_data[187] = train_data[187].astype('int')\n",
    "test_data[187] = test_data[187].astype('int') "
   ]
  },
  {
   "cell_type": "markdown",
   "metadata": {
    "id": "suzIUPwEbi-C"
   },
   "source": [
    "### 5) Distribution of ECG signal data by classes.As it seems the data is unbalanced data."
   ]
  },
  {
   "cell_type": "code",
   "execution_count": null,
   "metadata": {
    "colab": {
     "base_uri": "https://localhost:8080/",
     "height": 575
    },
    "id": "k2xfTW3AtsGe",
    "outputId": "f1779f54-d516-41f8-d656-de114681202c"
   },
   "outputs": [],
   "source": [
    "\n",
    "plt.figure(figsize= (10,10))\n",
    "my_circle = plt.Circle((0,0), 0.7, color = 'white') \n",
    "plt.pie(train_data[187].value_counts(), labels=['Normal Beats','Unknown Beats','Ventricular ectopic beats','Supraventricular ectopic beats',\n",
    "                                                'Fusion Beats'], autopct = '%0.0f%%', colors = ['#FCF69C','#55D8C1','#F94892','#AB46D2','#FF7F3F'])\n",
    "p = plt.gcf()\n",
    "p.gca().add_artist(my_circle)\n",
    "plt.show()"
   ]
  },
  {
   "cell_type": "markdown",
   "metadata": {
    "id": "UkMDqwt5b9mh"
   },
   "source": [
    "### 6) Splitting the training data into training and validation data, checking train, validation and test data's sizes."
   ]
  },
  {
   "cell_type": "code",
   "execution_count": null,
   "metadata": {
    "colab": {
     "base_uri": "https://localhost:8080/"
    },
    "id": "ThEg6AMSuMQ9",
    "outputId": "c55a4eba-742f-4215-bf24-47de927a1962"
   },
   "outputs": [],
   "source": [
    "from keras.utils import to_categorical\n",
    "X, y = train_data.iloc[: , :-1], train_data.iloc[: , -1]\n",
    "X, valid_X, y, valid_y= train_test_split(X,y,test_size=0.2)\n",
    "test_X, test_y = test_data.iloc[: , :-1], test_data.iloc[: , -1]\n",
    "y = to_categorical(y)\n",
    "test_y = to_categorical(test_y)\n",
    "valid_y=to_categorical(valid_y)\n",
    "\n",
    "print(\"X shape = \" +str(X.shape))\n",
    "print(\"y shape = \" +str(y.shape))\n",
    "print(\"validation X shape = \" +str(valid_X.shape))\n",
    "print(\"validation y shape = \" +str(valid_y.shape))\n",
    "print(\"test X shape = \" +str(test_X.shape))\n",
    "print(\"test y shape = \" +str(test_y.shape))"
   ]
  },
  {
   "cell_type": "markdown",
   "metadata": {
    "id": "fs7ow_gVcYGB"
   },
   "source": [
    "### 7) Building the custom CNN model."
   ]
  },
  {
   "cell_type": "code",
   "execution_count": null,
   "metadata": {
    "id": "82C-FzUJ0VVH"
   },
   "outputs": [],
   "source": [
    "CNN_model = Sequential()\n",
    "   \n",
    "CNN_model.add(Conv1D(filters = 64, kernel_size = 6, activation='relu', padding = 'same', input_shape = (187, 1))) \n",
    "   \n",
    "CNN_model.add(BatchNormalization())   \n",
    "CNN_model.add(MaxPooling1D(pool_size=(3), strides = (2), padding = 'same'))\n",
    "CNN_model.add(Conv1D(filters = 64, kernel_size = 6, activation='relu', padding = 'same'))\n",
    "CNN_model.add(BatchNormalization())\n",
    "CNN_model.add(MaxPooling1D(pool_size=(3), strides = (2), padding = 'same'))\n",
    "CNN_model.add(Conv1D( filters = 64, kernel_size = 6, activation='relu', padding = 'same'))\n",
    "CNN_model.add(BatchNormalization())\n",
    "CNN_model.add(MaxPooling1D(pool_size=(3), strides = (2), padding = 'same'))\n",
    "\n",
    "CNN_model.add(Flatten())\n",
    "\n",
    "CNN_model.add(Dense(units = 64, activation='relu'))\n",
    "    \n",
    "CNN_model.add(Dense(units = 64, activation='relu'))\n",
    "\n",
    "CNN_model.add(Dense(units = 5, activation='softmax'))\n",
    "\n",
    "CNN_model.compile(optimizer = 'Adam', loss = 'categorical_crossentropy', metrics = ['accuracy',\n",
    "                                                                                    keras.metrics.Precision(name='precision'),\n",
    "                                                                                    keras.metrics.Recall(name='recall'),\n",
    "                                                                                    tfa.metrics.F1Score(num_classes=5)])"
   ]
  },
  {
   "cell_type": "code",
   "execution_count": null,
   "metadata": {
    "colab": {
     "base_uri": "https://localhost:8080/"
    },
    "id": "-MGKdkWx4suE",
    "outputId": "9bde3c1c-63a7-4d6a-880b-106d43f985fc"
   },
   "outputs": [],
   "source": [
    "CNN_model.summary()"
   ]
  },
  {
   "cell_type": "markdown",
   "metadata": {
    "id": "fkN81kutcivs"
   },
   "source": [
    "### 8) Training the CNN model"
   ]
  },
  {
   "cell_type": "code",
   "execution_count": null,
   "metadata": {
    "colab": {
     "base_uri": "https://localhost:8080/"
    },
    "id": "o8zzvGX65HiX",
    "outputId": "0b2077fc-7279-4e11-eb24-f3e1dbc20f12"
   },
   "outputs": [],
   "source": [
    "history = CNN_model.fit(X, y, epochs = 15, batch_size = 32, validation_data=(valid_X, valid_y))"
   ]
  },
  {
   "cell_type": "markdown",
   "metadata": {
    "id": "RL0R1sFPcoSS"
   },
   "source": [
    "### 9) Evaluating the CNN model.Accuracy is 98.52."
   ]
  },
  {
   "cell_type": "code",
   "execution_count": null,
   "metadata": {
    "colab": {
     "base_uri": "https://localhost:8080/"
    },
    "id": "lCjQ5UOu5vc7",
    "outputId": "f413dc79-9884-48f9-f9fe-d9eac982f35c"
   },
   "outputs": [],
   "source": [
    "CNN_model.evaluate(test_X, test_y)"
   ]
  },
  {
   "cell_type": "code",
   "execution_count": null,
   "metadata": {
    "colab": {
     "base_uri": "https://localhost:8080/",
     "height": 1000
    },
    "id": "b53pedRyD0MN",
    "outputId": "bab3d2e4-5d8d-40e5-820b-8a3c3ee1a7e7"
   },
   "outputs": [],
   "source": [
    "pd.DataFrame(history.history)\n",
    "pd.DataFrame(history.history)[['accuracy', 'val_accuracy']].plot()\n",
    "pd.DataFrame(history.history)[['precision', 'val_precision']].plot()\n",
    "pd.DataFrame(history.history)[['recall', 'val_recall']].plot()\n",
    "pd.DataFrame(history.history)[['loss', 'val_loss']].plot()"
   ]
  },
  {
   "cell_type": "code",
   "execution_count": null,
   "metadata": {
    "colab": {
     "base_uri": "https://localhost:8080/"
    },
    "id": "DTjvflkiXe7x",
    "outputId": "a20d97f4-586d-4ff0-e81b-6415381fe198"
   },
   "outputs": [],
   "source": [
    "predict = CNN_model.predict(test_X)"
   ]
  },
  {
   "cell_type": "code",
   "execution_count": null,
   "metadata": {
    "colab": {
     "base_uri": "https://localhost:8080/"
    },
    "id": "ipWlEDV6XnEf",
    "outputId": "247d2488-d7e7-4e85-a1c4-9b67fb554e00"
   },
   "outputs": [],
   "source": [
    "len(predict)"
   ]
  },
  {
   "cell_type": "code",
   "execution_count": null,
   "metadata": {
    "colab": {
     "base_uri": "https://localhost:8080/"
    },
    "id": "PGhZq1YdVUIm",
    "outputId": "a3081280-9cb7-48a3-b64d-670273df3a90"
   },
   "outputs": [],
   "source": [
    "predict"
   ]
  },
  {
   "cell_type": "markdown",
   "metadata": {
    "id": "ER3kApeec7pB"
   },
   "source": [
    "### 10) Confusion matrix of the CNN model."
   ]
  },
  {
   "cell_type": "code",
   "execution_count": null,
   "metadata": {
    "colab": {
     "base_uri": "https://localhost:8080/",
     "height": 392
    },
    "id": "ko7_osLbVZcy",
    "outputId": "336fb194-720f-4730-e909-f2c6be776425"
   },
   "outputs": [],
   "source": [
    "yhat = np.argmax(predict, axis = 1)\n",
    "plt.figure(figsize=(8,6))\n",
    "sns.heatmap(confusion_matrix(np.argmax(test_y, axis =1), yhat), annot = True, fmt = '0.0f', cmap= 'Blues_r')"
   ]
  },
  {
   "cell_type": "markdown",
   "metadata": {
    "id": "TewmWGhkdOJS"
   },
   "source": [
    "### 11) Building the AlexNet model.\n"
   ]
  },
  {
   "cell_type": "code",
   "execution_count": null,
   "metadata": {
    "id": "fZsmkB8XWYrA"
   },
   "outputs": [],
   "source": [
    "alexNet_model=Sequential()\n",
    "\n",
    "alexNet_model.add(Conv1D(filters=96, activation='relu', kernel_size=11, strides=4, input_shape=(187,1)))\n",
    "alexNet_model.add(BatchNormalization())\n",
    "alexNet_model.add(MaxPooling1D(pool_size=2, strides=2, padding='same'))\n",
    "\n",
    "alexNet_model.add(Conv1D(filters=256, kernel_size=5, padding='same', activation='relu'))\n",
    "alexNet_model.add(BatchNormalization())\n",
    "alexNet_model.add(MaxPooling1D(pool_size=2, strides=2, padding='same'))\n",
    "\n",
    "alexNet_model.add(Conv1D(filters=384, padding='same', kernel_size=3, activation='relu'))\n",
    "alexNet_model.add(Conv1D(filters=384, kernel_size=3, activation='relu'))\n",
    "alexNet_model.add(Conv1D(filters=256, kernel_size=3, activation='relu'))\n",
    "alexNet_model.add(BatchNormalization())\n",
    "alexNet_model.add(MaxPooling1D(pool_size=2, strides=2, padding='same'))\n",
    "\n",
    "alexNet_model.add(Flatten())\n",
    "alexNet_model.add(Dense(4096, activation='relu'))\n",
    "alexNet_model.add(Dropout(0.4))\n",
    "alexNet_model.add(Dense(4096, activation='relu'))\n",
    "alexNet_model.add(Dropout(0.4))\n",
    "alexNet_model.add(Dense(5, activation='softmax'))\n",
    "\n",
    "alexNet_model.compile(optimizer='adam', loss='categorical_crossentropy', metrics=['accuracy',\n",
    "                                                                                    keras.metrics.Precision(name='precision'),\n",
    "                                                                                    keras.metrics.Recall(name='recall'),\n",
    "                                                                                    tfa.metrics.F1Score(num_classes=5)])"
   ]
  },
  {
   "cell_type": "code",
   "execution_count": null,
   "metadata": {
    "colab": {
     "base_uri": "https://localhost:8080/"
    },
    "id": "JwfYc45Y06yK",
    "outputId": "1ac1176d-5a72-4b04-e6ac-b214cbe5c173"
   },
   "outputs": [],
   "source": [
    "alexNet_model.summary()"
   ]
  },
  {
   "cell_type": "markdown",
   "metadata": {
    "id": "rxW0cO2deXXa"
   },
   "source": [
    "### 12) Training the AlexNet model."
   ]
  },
  {
   "cell_type": "code",
   "execution_count": null,
   "metadata": {
    "colab": {
     "base_uri": "https://localhost:8080/"
    },
    "id": "Owc_5cEN2ltu",
    "outputId": "a49d2b6b-e534-4d1f-c5da-14c5ffda2675"
   },
   "outputs": [],
   "source": [
    "alexNet_model_history = alexNet_model.fit(X, y, epochs = 15, batch_size = 100, validation_data = (valid_X, valid_y))"
   ]
  },
  {
   "cell_type": "markdown",
   "metadata": {
    "id": "FidhUt7Oeluw"
   },
   "source": [
    "### 13) Evaluating the AlexNet model.Accuracy is 98.34."
   ]
  },
  {
   "cell_type": "code",
   "execution_count": null,
   "metadata": {
    "colab": {
     "base_uri": "https://localhost:8080/"
    },
    "id": "pH2VMMzWpnAa",
    "outputId": "7dc9804b-673d-4e8b-b71d-8faa16aae844"
   },
   "outputs": [],
   "source": [
    "alexNet_model.evaluate(test_X, test_y)"
   ]
  },
  {
   "cell_type": "code",
   "execution_count": null,
   "metadata": {
    "colab": {
     "base_uri": "https://localhost:8080/",
     "height": 1000
    },
    "id": "DxsBqIGzpxwN",
    "outputId": "6dd5bdd3-b744-4093-80ec-5f76e3bc5ff9"
   },
   "outputs": [],
   "source": [
    "pd.DataFrame(alexNet_model_history.history)\n",
    "pd.DataFrame(alexNet_model_history.history)[['accuracy', 'val_accuracy']].plot()\n",
    "pd.DataFrame(alexNet_model_history.history)[['precision', 'val_precision']].plot()\n",
    "pd.DataFrame(alexNet_model_history.history)[['recall', 'val_recall']].plot()\n",
    "pd.DataFrame(alexNet_model_history.history)[['loss', 'val_loss']].plot()"
   ]
  },
  {
   "cell_type": "code",
   "execution_count": null,
   "metadata": {
    "colab": {
     "base_uri": "https://localhost:8080/"
    },
    "id": "MGR3BtoWqAmx",
    "outputId": "a50aab65-5363-4057-e2b1-a21d9bab7d0d"
   },
   "outputs": [],
   "source": [
    "predict_alexNet = alexNet_model.predict(test_X)"
   ]
  },
  {
   "cell_type": "markdown",
   "metadata": {
    "id": "0L5x5LIZe9dS"
   },
   "source": [
    "### 14)  Confusion matrix of the AlexNet model."
   ]
  },
  {
   "cell_type": "code",
   "execution_count": null,
   "metadata": {
    "colab": {
     "base_uri": "https://localhost:8080/",
     "height": 392
    },
    "id": "GEcvg1vpqPGp",
    "outputId": "f006d333-c822-44b4-ef7d-4593ce89ee05"
   },
   "outputs": [],
   "source": [
    "alexNet_yhat = np.argmax(predict, axis = 1)\n",
    "plt.figure(figsize=(8,6))\n",
    "sns.heatmap(confusion_matrix(np.argmax(test_y, axis =1), alexNet_yhat), annot = True, fmt = '0.0f', cmap= 'Purples_r')"
   ]
  },
  {
   "cell_type": "markdown",
   "metadata": {
    "id": "MdDQqbbPfMvh"
   },
   "source": [
    "### 15) Building LSTM model."
   ]
  },
  {
   "cell_type": "code",
   "execution_count": null,
   "metadata": {
    "id": "zQJLLK9LH1-m"
   },
   "outputs": [],
   "source": [
    "lstm_model = Sequential()\n",
    "lstm_model.add(LSTM(64, input_shape=(187,1)))\n",
    "lstm_model.add(Dense(128, activation = 'relu'))\n",
    "lstm_model.add(Dropout(0.3))\n",
    "lstm_model.add(Dense(5, activation = 'softmax'))\n",
    "\n",
    "lstm_model.compile(optimizer='adam', loss='categorical_crossentropy', metrics=['accuracy',\n",
    "                                                                                    keras.metrics.Precision(name='precision'),\n",
    "                                                                                    keras.metrics.Recall(name='recall'),\n",
    "                                                                                    tfa.metrics.F1Score(num_classes=5)])"
   ]
  },
  {
   "cell_type": "code",
   "execution_count": null,
   "metadata": {
    "colab": {
     "base_uri": "https://localhost:8080/"
    },
    "id": "8i5TqkVQIlEB",
    "outputId": "43b40175-bd4d-4bed-d225-205f8526fd99"
   },
   "outputs": [],
   "source": [
    "lstm_model.summary()"
   ]
  },
  {
   "cell_type": "markdown",
   "metadata": {
    "id": "gPPsx_FLfUXh"
   },
   "source": [
    "### 16) Training the LSTM model."
   ]
  },
  {
   "cell_type": "code",
   "execution_count": null,
   "metadata": {
    "colab": {
     "base_uri": "https://localhost:8080/"
    },
    "id": "Lp_-GdzjIsz7",
    "outputId": "18e90f93-8aa4-4c3f-e058-3312c1b54c66"
   },
   "outputs": [],
   "source": [
    "lstm_model_history = lstm_model.fit(X, y, epochs = 20, batch_size = 100, validation_data = (valid_X, valid_y))"
   ]
  },
  {
   "cell_type": "markdown",
   "metadata": {
    "id": "-JEto7ItfZ1Z"
   },
   "source": [
    "### 17) Evaluating the LSTM model.Accuracy is 94.10."
   ]
  },
  {
   "cell_type": "code",
   "execution_count": null,
   "metadata": {
    "colab": {
     "base_uri": "https://localhost:8080/"
    },
    "id": "dKg_sZvQRJeE",
    "outputId": "dc9497e5-b5c7-4e46-9057-f378f9e91d36"
   },
   "outputs": [],
   "source": [
    "lstm_model.evaluate(test_X, test_y)"
   ]
  },
  {
   "cell_type": "code",
   "execution_count": null,
   "metadata": {
    "colab": {
     "base_uri": "https://localhost:8080/",
     "height": 1000
    },
    "id": "HE863osqRKJi",
    "outputId": "6d6f4b46-9e53-4743-9d0e-e56378b11e3c"
   },
   "outputs": [],
   "source": [
    "pd.DataFrame(lstm_model_history.history)\n",
    "pd.DataFrame(lstm_model_history.history)[['accuracy', 'val_accuracy']].plot()\n",
    "pd.DataFrame(lstm_model_history.history)[['precision', 'val_precision']].plot()\n",
    "pd.DataFrame(lstm_model_history.history)[['recall', 'val_recall']].plot()\n",
    "pd.DataFrame(lstm_model_history.history)[['loss', 'val_loss']].plot()"
   ]
  },
  {
   "cell_type": "code",
   "execution_count": null,
   "metadata": {
    "colab": {
     "base_uri": "https://localhost:8080/"
    },
    "id": "bd2-LSkTRw8k",
    "outputId": "7415428b-75e4-417a-e855-46ff3e3fb6d1"
   },
   "outputs": [],
   "source": [
    "predict_lstm = lstm_model.predict(test_X)\n"
   ]
  },
  {
   "cell_type": "markdown",
   "metadata": {
    "id": "xJ27bkJDfiox"
   },
   "source": [
    "### 18) Confusion matrix of the LSTM model."
   ]
  },
  {
   "cell_type": "code",
   "execution_count": null,
   "metadata": {
    "colab": {
     "base_uri": "https://localhost:8080/",
     "height": 392
    },
    "id": "qdySKhh6SEdA",
    "outputId": "a8882c06-7aa1-4b5a-85e1-660547e655b9"
   },
   "outputs": [],
   "source": [
    "lstm_yhat = np.argmax(predict, axis = 1)\n",
    "plt.figure(figsize=(8,6))\n",
    "sns.heatmap(confusion_matrix(np.argmax(test_y, axis =1), lstm_yhat), annot = True, fmt = '0.0f', cmap= 'Greens_r')"
   ]
  }
 ],
 "metadata": {
  "colab": {
   "provenance": []
  },
  "kernelspec": {
   "display_name": "Python 3 (ipykernel)",
   "language": "python",
   "name": "python3"
  },
  "language_info": {
   "codemirror_mode": {
    "name": "ipython",
    "version": 3
   },
   "file_extension": ".py",
   "mimetype": "text/x-python",
   "name": "python",
   "nbconvert_exporter": "python",
   "pygments_lexer": "ipython3",
   "version": "3.10.9"
  }
 },
 "nbformat": 4,
 "nbformat_minor": 1
}
